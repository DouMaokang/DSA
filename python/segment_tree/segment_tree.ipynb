{
 "cells": [
  {
   "cell_type": "markdown",
   "metadata": {
    "pycharm": {
     "name": "#%% md\n"
    }
   },
   "source": [
    "# Segment Tree\n",
    "\n",
    "1. [Range Sum I: point update, range query, static](#Range-Sum-I)\n",
    "2. [Range Sum II: range update, range query, static, lazy propagation](#Range-Sum-II)\n",
    "3. [Range Sum III: point update, range query, dynamic](#Range-Sum-III)\n",
    "4. [Range Sum IV: range update, range query, dynamic, lazy propagation](#Range-Sum-IV)"
   ]
  },
  {
   "cell_type": "markdown",
   "metadata": {
    "pycharm": {
     "name": "#%% md\n"
    }
   },
   "source": [
    "# Range Sum I"
   ]
  },
  {
   "cell_type": "code",
   "execution_count": 1,
   "metadata": {
    "pycharm": {
     "name": "#%%\n"
    }
   },
   "outputs": [],
   "source": [
    "class Node:\n",
    "    def __init__(self, start: int, end: int, val, left: 'Node' = None, right: 'Node' = None):\n",
    "        \"\"\"\n",
    "        Segment tree node.\n",
    "        :param start: interval start (inclusive)\n",
    "        :param end: interval end (inclusive)\n",
    "        :param val: value store in the node\n",
    "        :param left: left child\n",
    "        :param right: right child\n",
    "        \"\"\"\n",
    "        self.start = start\n",
    "        self.end = end\n",
    "        self.val = val\n",
    "        self.left = left\n",
    "        self.right = right\n",
    "\n",
    "    def mid(self):\n",
    "        return (self.start + self.end) // 2\n",
    "\n",
    "class SegmentTree:\n",
    "    def __init__(self, nums):\n",
    "        self.nums = list(nums)\n",
    "        self.root = self._build(0, len(nums) - 1)\n",
    "\n",
    "    def _build(self, l: int, r: int):\n",
    "        if l == r:\n",
    "            return Node(l, r, self.nums[l])\n",
    "        else:\n",
    "            mid = (l + r) // 2\n",
    "            left_child = self._build(l, mid)\n",
    "            right_child = self._build(mid + 1, r)\n",
    "            val = left_child.val + right_child.val\n",
    "            return Node(l, r, val, left_child, right_child)\n",
    "\n",
    "    def update(self, node: Node, idx: int, val):\n",
    "        if node.start == node.end:\n",
    "            node.val = val\n",
    "        else:\n",
    "            mid = node.mid()\n",
    "            if idx <= mid:\n",
    "                self.update(node.left, idx, val)\n",
    "            else:\n",
    "                self.update(node.right, idx, val)\n",
    "            # update parent\n",
    "            node.val = node.left.val + node.right.val\n",
    "\n",
    "    def sum(self, node: Node, l: int, r: int):\n",
    "        if l <= node.start and node.end <= r:\n",
    "            return node.val\n",
    "        mid = node.mid()\n",
    "        result = 0\n",
    "        if l <= mid:\n",
    "            result += self.sum(node.left, l, r)\n",
    "        if r > mid:\n",
    "            result += self.sum(node.right, l, r)\n",
    "        return result"
   ]
  },
  {
   "cell_type": "code",
   "execution_count": 2,
   "metadata": {
    "pycharm": {
     "name": "#%%\n"
    }
   },
   "outputs": [],
   "source": [
    "nums = [1, 2, 3, 4, 5]\n",
    "st = SegmentTree(nums)\n",
    "assert st.sum(st.root, 0, 4) == sum(nums[0: 5])\n",
    "assert st.sum(st.root, 1, 4) == sum(nums[1: 5])\n",
    "assert st.sum(st.root, 2, 4) == sum(nums[2: 5])\n",
    "assert st.sum(st.root, 2, 3) == sum(nums[2: 4])\n",
    "\n",
    "st.update(st.root, 2, -1)\n",
    "nums[2] = -1\n",
    "assert st.sum(st.root, 0, 4) == sum(nums[0: 5])\n",
    "assert st.sum(st.root, 1, 4) == sum(nums[1: 5])\n",
    "assert st.sum(st.root, 2, 4) == sum(nums[2: 5])\n",
    "assert st.sum(st.root, 2, 3) == sum(nums[2: 4])"
   ]
  },
  {
   "cell_type": "markdown",
   "source": [
    "# Range Sum II"
   ],
   "metadata": {
    "collapsed": false,
    "pycharm": {
     "name": "#%% md\n"
    }
   }
  },
  {
   "cell_type": "code",
   "execution_count": 27,
   "metadata": {
    "pycharm": {
     "name": "#%%\n"
    }
   },
   "outputs": [],
   "source": [
    "class Node:\n",
    "    def __init__(self, start: int, end: int, val, left: 'Node' = None, right: 'Node' = None, delta=0):\n",
    "        \"\"\"\n",
    "        Segment tree node.\n",
    "        :param start: interval start (inclusive)\n",
    "        :param end: interval end (inclusive)\n",
    "        :param val: value store in the node\n",
    "        :param left: left child\n",
    "        :param right: right child\n",
    "        \"\"\"\n",
    "        self.start = start\n",
    "        self.end = end\n",
    "        self.val = val\n",
    "        self.delta = delta\n",
    "        self.left = left\n",
    "        self.right = right\n",
    "\n",
    "    def mid(self):\n",
    "        return (self.start + self.end) // 2\n",
    "\n",
    "class SegmentTree:\n",
    "    def __init__(self, nums):\n",
    "        self.nums = list(nums)\n",
    "        self.root = self._build(0, len(nums) - 1)\n",
    "\n",
    "    def _build(self, l: int, r: int):\n",
    "        if l == r:\n",
    "            return Node(l, r, self.nums[l])\n",
    "        else:\n",
    "            mid = (l + r) // 2\n",
    "            left_child = self._build(l, mid)\n",
    "            right_child = self._build(mid + 1, r)\n",
    "            val = left_child.val + right_child.val\n",
    "            return Node(l, r, val, left_child, right_child)\n",
    "\n",
    "    def _push(self, node: Node):\n",
    "        delta = node.delta\n",
    "        node.delta = 0\n",
    "        if delta != 0:\n",
    "            node.left.val += delta * (node.left.end - node.left.start + 1)\n",
    "            node.right.val += delta * (node.right.end - node.right.start + 1)\n",
    "            node.left.delta += delta\n",
    "            node.right.delta += delta\n",
    "\n",
    "    def add(self, node: Node, l: int, r: int, delta):\n",
    "        if l <= node.start and node.end <= r:\n",
    "            # add delta to all elements in the range\n",
    "            node.val += (node.end - node.start + 1) * delta\n",
    "            node.delta += delta\n",
    "        else:\n",
    "            self._push(node)\n",
    "            mid = node.mid()\n",
    "            if l <= mid:\n",
    "                self.add(node.left, l, r, delta)\n",
    "            if r > mid:\n",
    "                self.add(node.right, l, r, delta)\n",
    "            # update parent\n",
    "            node.val = node.left.val + node.right.val\n",
    "\n",
    "    def sum(self, node: Node, l: int, r: int):\n",
    "        if l <= node.start and node.end <= r:\n",
    "            return node.val\n",
    "        self._push(node)\n",
    "        mid = node.mid()\n",
    "        result = 0\n",
    "        if l <= mid:\n",
    "            result += self.sum(node.left, l, r)\n",
    "        if r > mid:\n",
    "            result += self.sum(node.right, l, r)\n",
    "        return result"
   ]
  },
  {
   "cell_type": "code",
   "execution_count": 30,
   "metadata": {},
   "outputs": [],
   "source": [
    "nums = [1, 2, 3, 4, 5]\n",
    "st = SegmentTree(nums)\n",
    "assert st.sum(st.root, 0, 4) == sum(nums[:5])\n",
    "st.add(st.root, 0, 1, 1)\n",
    "for i in range(0, 2):\n",
    "    nums[i] += 1\n",
    "assert st.sum(st.root, 0, 4) == sum(nums[:5])\n",
    "assert st.sum(st.root, 0, 1) == sum(nums[:2])\n",
    "\n",
    "st.add(st.root, 0, 2, 1)\n",
    "for i in range(0, 3):\n",
    "    nums[i] += 1\n",
    "assert st.sum(st.root, 0, 4) == sum(nums[:5])\n",
    "assert st.sum(st.root, 0, 1) == sum(nums[:2])\n",
    "assert st.sum(st.root, 2, 4) == sum(nums[2:5])"
   ]
  },
  {
   "cell_type": "markdown",
   "metadata": {
    "pycharm": {
     "name": "#%% md\n"
    }
   },
   "source": [
    "# Range Sum III"
   ]
  },
  {
   "cell_type": "code",
   "execution_count": 40,
   "outputs": [],
   "source": [
    "class Node:\n",
    "    def __init__(self, start: int, end: int, val, left: 'Node' = None, right: 'Node' = None):\n",
    "        \"\"\"\n",
    "        Segment tree node.\n",
    "        :param start: interval start (inclusive)\n",
    "        :param end: interval end (inclusive)\n",
    "        :param val: value store in the node\n",
    "        :param left: left child\n",
    "        :param right: right child\n",
    "        \"\"\"\n",
    "        self.start = start\n",
    "        self.end = end\n",
    "        self.val = val\n",
    "        self.left = left\n",
    "        self.right = right\n",
    "\n",
    "    def mid(self):\n",
    "        return (self.start + self.end) // 2\n",
    "\n",
    "class SegmentTree:\n",
    "    def __init__(self, start: int, end: int):\n",
    "        self.root = Node(start, end, 0)\n",
    "\n",
    "    def update(self, node: Node, idx: int, val):\n",
    "        if node.start == node.end:\n",
    "            node.val = val\n",
    "        else:\n",
    "            mid = node.mid()\n",
    "            # create left and right child nodes\n",
    "            if not node.left:\n",
    "                node.left = Node(node.start, mid, 0)\n",
    "            if not node.right:\n",
    "                node.right = Node(mid + 1, node.end, 0)\n",
    "\n",
    "            if idx <= mid:\n",
    "                self.update(node.left, idx, val)\n",
    "            else:\n",
    "                self.update(node.right, idx, val)\n",
    "            # update parent\n",
    "            node.val = node.left.val + node.right.val\n",
    "\n",
    "    def sum(self, node: Node, l: int, r: int):\n",
    "        if not node:\n",
    "            return 0\n",
    "\n",
    "        if l <= node.start and node.end <= r:\n",
    "            return node.val\n",
    "        mid = node.mid()\n",
    "        result = 0\n",
    "        if l <= mid:\n",
    "            result += self.sum(node.left, l, r)\n",
    "        if r > mid:\n",
    "            result += self.sum(node.right, l, r)\n",
    "        return result"
   ],
   "metadata": {
    "collapsed": false,
    "pycharm": {
     "name": "#%%\n"
    }
   }
  },
  {
   "cell_type": "code",
   "execution_count": 41,
   "outputs": [],
   "source": [
    "nums = [0] * 10\n",
    "st = SegmentTree(0, 9)\n",
    "assert st.sum(st.root, 0, 9) == sum(nums)\n",
    "assert st.sum(st.root, 0, 0) == sum(nums[0:1])\n",
    "\n",
    "st.update(st.root, 0, 1)\n",
    "nums[0] = 1\n",
    "assert st.sum(st.root, 0, 4) == sum(nums[:5])\n",
    "assert st.sum(st.root, 0, 1) == sum(nums[:2])\n",
    "\n",
    "st.update(st.root, 1, 3)\n",
    "nums[1] = 3\n",
    "st.update(st.root, 5, -4)\n",
    "nums[5] = -4\n",
    "assert st.sum(st.root, 0, 9) == sum(nums)"
   ],
   "metadata": {
    "collapsed": false,
    "pycharm": {
     "name": "#%%\n"
    }
   }
  },
  {
   "cell_type": "markdown",
   "source": [
    "# Range Sum IV"
   ],
   "metadata": {
    "collapsed": false,
    "pycharm": {
     "name": "#%% md\n"
    }
   }
  },
  {
   "cell_type": "code",
   "execution_count": 53,
   "outputs": [],
   "source": [
    "class Node:\n",
    "    def __init__(self, start: int, end: int, val, left: 'Node' = None, right: 'Node' = None, delta=0):\n",
    "        \"\"\"\n",
    "        Segment tree node.\n",
    "        :param start: interval start (inclusive)\n",
    "        :param end: interval end (inclusive)\n",
    "        :param val: value store in the node\n",
    "        :param left: left child\n",
    "        :param right: right child\n",
    "        \"\"\"\n",
    "        self.start = start\n",
    "        self.end = end\n",
    "        self.val = val\n",
    "        self.delta = delta\n",
    "        self.left = left\n",
    "        self.right = right\n",
    "\n",
    "    def mid(self):\n",
    "        return (self.start + self.end) // 2\n",
    "\n",
    "class SegmentTree:\n",
    "    def __init__(self, start, end):\n",
    "        self.root = Node(start, end, 0)\n",
    "\n",
    "    def _push(self, node: Node):\n",
    "        delta = node.delta\n",
    "        node.delta = 0\n",
    "\n",
    "        # create left and right child nodes\n",
    "        mid = node.mid()\n",
    "        if not node.left:\n",
    "            node.left = Node(node.start, mid, 0)\n",
    "        if not node.right:\n",
    "            node.right = Node(mid + 1, node.end, 0)\n",
    "\n",
    "        if delta != 0:\n",
    "            node.left.val += delta * (node.left.end - node.left.start + 1)\n",
    "            node.right.val += delta * (node.right.end - node.right.start + 1)\n",
    "            node.left.delta += delta\n",
    "            node.right.delta += delta\n",
    "\n",
    "    def add(self, node: Node, l: int, r: int, delta):\n",
    "        if l <= node.start and node.end <= r:\n",
    "            # add delta to all elements in the range\n",
    "            node.val += (node.end - node.start + 1) * delta\n",
    "            node.delta += delta\n",
    "        else:\n",
    "            self._push(node)\n",
    "            mid = node.mid()\n",
    "            if l <= mid:\n",
    "                self.add(node.left, l, r, delta)\n",
    "            if r > mid:\n",
    "                self.add(node.right, l, r, delta)\n",
    "            # update parent\n",
    "            node.val = node.left.val + node.right.val\n",
    "\n",
    "    def sum(self, node: Node, l: int, r: int):\n",
    "        # No need to add this is statement, since _push always creates nodes with default val = 0\n",
    "        # if not node:\n",
    "        #     return 0\n",
    "\n",
    "        if l <= node.start and node.end <= r:\n",
    "            return node.val\n",
    "        self._push(node)\n",
    "        mid = node.mid()\n",
    "        result = 0\n",
    "        if l <= mid:\n",
    "            result += self.sum(node.left, l, r)\n",
    "        if r > mid:\n",
    "            result += self.sum(node.right, l, r)\n",
    "        return result"
   ],
   "metadata": {
    "collapsed": false,
    "pycharm": {
     "name": "#%%\n"
    }
   }
  },
  {
   "cell_type": "code",
   "execution_count": 54,
   "outputs": [],
   "source": [
    "nums = [0] * 5\n",
    "st = SegmentTree(0, 4)\n",
    "assert st.sum(st.root, 1, 1) == sum(nums[1:2])\n",
    "assert st.sum(st.root, 0, 4) == sum(nums[:5])\n",
    "st.add(st.root, 0, 1, 1)\n",
    "for i in range(0, 2):\n",
    "    nums[i] += 1\n",
    "assert st.sum(st.root, 0, 4) == sum(nums[:5])\n",
    "assert st.sum(st.root, 0, 1) == sum(nums[:2])\n",
    "\n",
    "st.add(st.root, 0, 2, 1)\n",
    "for i in range(0, 3):\n",
    "    nums[i] += 1\n",
    "assert st.sum(st.root, 0, 4) == sum(nums[:5])\n",
    "assert st.sum(st.root, 0, 1) == sum(nums[:2])\n",
    "assert st.sum(st.root, 2, 4) == sum(nums[2:5])"
   ],
   "metadata": {
    "collapsed": false,
    "pycharm": {
     "name": "#%%\n"
    }
   }
  },
  {
   "cell_type": "code",
   "execution_count": null,
   "outputs": [],
   "source": [],
   "metadata": {
    "collapsed": false,
    "pycharm": {
     "name": "#%%\n"
    }
   }
  }
 ],
 "metadata": {
  "kernelspec": {
   "display_name": "Python 3 (ipykernel)",
   "language": "python",
   "name": "python3"
  },
  "language_info": {
   "codemirror_mode": {
    "name": "ipython",
    "version": 3
   },
   "file_extension": ".py",
   "mimetype": "text/x-python",
   "name": "python",
   "nbconvert_exporter": "python",
   "pygments_lexer": "ipython3",
   "version": "3.9.12"
  }
 },
 "nbformat": 4,
 "nbformat_minor": 1
}