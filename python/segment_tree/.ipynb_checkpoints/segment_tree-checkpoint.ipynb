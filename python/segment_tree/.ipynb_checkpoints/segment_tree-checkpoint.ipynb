{
 "cells": [
  {
   "cell_type": "markdown",
   "metadata": {
    "pycharm": {
     "name": "#%% md\n"
    }
   },
   "source": [
    "# Segment Tree\n",
    "\n",
    "1. [Range sum: point update, range query, static](#another_cell)\n",
    "2. Range sum: range update, range query, static, lazy propagation\n",
    "3. Range sum: point update, range query, dynamic"
   ]
  },
  {
   "cell_type": "markdown",
   "metadata": {
    "pycharm": {
     "name": "#%% md\n"
    }
   },
   "source": [
    "[Section 1](#section_1)"
   ]
  },
  {
   "cell_type": "markdown",
   "metadata": {
    "pycharm": {
     "name": "#%% md\n"
    }
   },
   "source": [
    "# section 1\n",
    "<a id='section_1'>as<a>"
   ]
  },
  {
   "cell_type": "code",
   "execution_count": null,
   "metadata": {
    "pycharm": {
     "name": "#%%\n"
    }
   },
   "outputs": [],
   "source": [
    "class Node:\n",
    "    def __init__(self, start: int, end: int, val, left: 'Node' = None, right: 'Node' = None):\n",
    "        \"\"\"\n",
    "        Segment tree node.\n",
    "        :param start: interval start (inclusive)\n",
    "        :param end: interval end (inclusive)\n",
    "        :param val: value store in the node\n",
    "        :param left: left child\n",
    "        :param right: right child\n",
    "        \"\"\"\n",
    "        self.start = start\n",
    "        self.end = end\n",
    "        self.val = val\n",
    "        self.left = left\n",
    "        self.right = right\n",
    "\n",
    "    def mid(self):\n",
    "        return (self.start + self.end) // 2\n",
    "\n",
    "class SegmentTree:\n",
    "    \"\"\"\n",
    "    Range sum.\n",
    "\n",
    "    Point update, range query, static\n",
    "    \"\"\"\n",
    "    def __init__(self, nums):\n",
    "        self.nums = list(nums)\n",
    "        self.root = self._build(0, len(nums) - 1)\n",
    "\n",
    "    def _build(self, l: int, r: int):\n",
    "        if l == r:\n",
    "            return Node(l, r, self.nums[l])\n",
    "        else:\n",
    "            mid = (l + r) // 2\n",
    "            left_child = self._build(l, mid)\n",
    "            right_child = self._build(mid + 1, r)\n",
    "            val = left_child.val + right_child.val\n",
    "            return Node(l, r, val, left_child, right_child)\n",
    "\n",
    "    def update(self, node: Node, idx: int, val):\n",
    "        if node.start == node.end:\n",
    "            node.val = val\n",
    "        else:\n",
    "            mid = node.mid()\n",
    "            if idx <= mid:\n",
    "                self.update(node.left, idx, val)\n",
    "            else:\n",
    "                self.update(node.right, idx, val)\n",
    "            # update parent\n",
    "            node.val = node.left.val + node.right.val\n",
    "\n",
    "    def sum(self, node: Node, l: int, r: int):\n",
    "        if l <= node.start and node.end <= r:\n",
    "            return node.val\n",
    "        mid = node.mid()\n",
    "        result = 0\n",
    "        if l <= mid:\n",
    "            result += self.sum(node.left, l, r)\n",
    "        if r > mid:\n",
    "            result += self.sum(node.right, l, r)\n",
    "        return result"
   ]
  },
  {
   "cell_type": "code",
   "execution_count": 26,
   "metadata": {
    "pycharm": {
     "name": "#%%\n"
    }
   },
   "outputs": [],
   "source": [
    "nums = [1, 2, 3, 4, 5]\n",
    "st = SegmentTree(nums)\n",
    "assert st.sum(st.root, 0, 4) == sum(nums[0: 5])\n",
    "assert st.sum(st.root, 1, 4) == sum(nums[1: 5])\n",
    "assert st.sum(st.root, 2, 4) == sum(nums[2: 5])\n",
    "assert st.sum(st.root, 2, 3) == sum(nums[2: 4])\n",
    "\n",
    "st.update(st.root, 2, -1)\n",
    "nums[2] = -1\n",
    "assert st.sum(st.root, 0, 4) == sum(nums[0: 5])\n",
    "assert st.sum(st.root, 1, 4) == sum(nums[1: 5])\n",
    "assert st.sum(st.root, 2, 4) == sum(nums[2: 5])\n",
    "assert st.sum(st.root, 2, 3) == sum(nums[2: 4])"
   ]
  },
  {
   "cell_type": "code",
   "execution_count": null,
   "metadata": {
    "pycharm": {
     "name": "#%%\n"
    }
   },
   "outputs": [],
   "source": [
    "class Node:\n",
    "    def __init__(self, start: int, end: int, val, left: 'Node' = None, right: 'Node' = None):\n",
    "        \"\"\"\n",
    "        Segment tree node.\n",
    "        :param start: interval start (inclusive)\n",
    "        :param end: interval end (inclusive)\n",
    "        :param val: value store in the node\n",
    "        :param left: left child\n",
    "        :param right: right child\n",
    "        \"\"\"\n",
    "        self.start = start\n",
    "        self.end = end\n",
    "        self.val = val\n",
    "        self.left = left\n",
    "        self.right = right\n",
    "\n",
    "    def mid(self):\n",
    "        return (self.start + self.end) // 2\n",
    "\n",
    "class SegmentTree:\n",
    "    \"\"\"\n",
    "    Range sum.\n",
    "\n",
    "    Range update, range query, static\n",
    "    \"\"\"\n",
    "    def __init__(self, nums):\n",
    "        self.nums = list(nums)\n",
    "        self.root = self._build(0, len(nums) - 1)\n",
    "\n",
    "    def _build(self, l: int, r: int):\n",
    "        if l == r:\n",
    "            return Node(l, r, self.nums[l])\n",
    "        else:\n",
    "            mid = (l + r) // 2\n",
    "            left_child = self._build(l, mid)\n",
    "            right_child = self._build(mid + 1, r)\n",
    "            val = left_child.val + right_child.val\n",
    "            return Node(l, r, val, left_child, right_child)\n",
    "\n",
    "    def add(self, node: Node, l: int, r: int, delta):\n",
    "        if l <= node.start and node.end <= r:\n",
    "            # add delta to all elements in the range\n",
    "            node.val += (node.end - node.start + 1) * delta\n",
    "        else:\n",
    "            mid = node.mid()\n",
    "            if idx <= mid:\n",
    "                self.update(node.left, idx, val)\n",
    "            else:\n",
    "                self.update(node.right, idx, val)\n",
    "            # update parent\n",
    "            node.val = node.left.val + node.right.val\n",
    "\n",
    "    def sum(self, node: Node, l: int, r: int):\n",
    "        if l <= node.start and node.end <= r:\n",
    "            return node.val\n",
    "        mid = node.mid()\n",
    "        result = 0\n",
    "        if l <= mid:\n",
    "            result += self.sum(node.left, l, r)\n",
    "        if r > mid:\n",
    "            result += self.sum(node.right, l, r)\n",
    "        return result"
   ]
  }
 ],
 "metadata": {
  "kernelspec": {
   "display_name": "Python 3 (ipykernel)",
   "language": "python",
   "name": "python3"
  },
  "language_info": {
   "codemirror_mode": {
    "name": "ipython",
    "version": 3
   },
   "file_extension": ".py",
   "mimetype": "text/x-python",
   "name": "python",
   "nbconvert_exporter": "python",
   "pygments_lexer": "ipython3",
   "version": "3.9.12"
  }
 },
 "nbformat": 4,
 "nbformat_minor": 1
}
